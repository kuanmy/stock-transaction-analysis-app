{
 "cells": [
  {
   "cell_type": "raw",
   "metadata": {},
   "source": [
    "---\n",
    "title: Stock Transaction Analysis\n",
    "description: Extract and summarise transaction in Excel\n",
    "show-code: False\n",
    "params:\n",
    "    input_filename:\n",
    "        label: Please upload Excel file (.xlsx)\n",
    "        input: file\n",
    "    filter_from:\n",
    "        label: From (Format: YYYY-MM-DD)\n",
    "        input: text\n",
    "    filter_to:\n",
    "        label: To (Format: YYYY-MM-DD)\n",
    "        input: text\n",
    "    filter_client_codes\n",
    "        label: Client Codes (Separate using ;)\n",
    "        input: text\n",
    "    filter_counters\n",
    "        label: Counters (Separate using ;)\n",
    "        input: text\n",
    "---"
   ]
  },
  {
   "cell_type": "code",
   "execution_count": 6,
   "metadata": {},
   "outputs": [],
   "source": [
    "# # define mercury params\n",
    "input_filename = ''\n",
    "filter_from = ''\n",
    "filter_to = ''\n",
    "filter_client_codes = ''\n",
    "filter_counters = ''"
   ]
  },
  {
   "cell_type": "code",
   "execution_count": 7,
   "metadata": {},
   "outputs": [],
   "source": [
    "# import libraries\n",
    "import input_output_func as iof\n",
    "import pandas as pd\n",
    "import process_func as pf\n",
    "from IPython.display import display"
   ]
  },
  {
   "cell_type": "code",
   "execution_count": 8,
   "metadata": {},
   "outputs": [
    {
     "name": "stderr",
     "output_type": "stream",
     "text": [
      "c:\\Users\\kuanm\\Documents\\StockTransactionAnalysis\\process_func.py:19: UserWarning: Boolean Series key will be reindexed to match DataFrame index.\n",
      "  data = data[condition]\n"
     ]
    },
    {
     "data": {
      "text/html": [
       "<div>\n",
       "<style scoped>\n",
       "    .dataframe tbody tr th:only-of-type {\n",
       "        vertical-align: middle;\n",
       "    }\n",
       "\n",
       "    .dataframe tbody tr th {\n",
       "        vertical-align: top;\n",
       "    }\n",
       "\n",
       "    .dataframe thead th {\n",
       "        text-align: right;\n",
       "    }\n",
       "</style>\n",
       "<table border=\"1\" class=\"dataframe\">\n",
       "  <thead>\n",
       "    <tr style=\"text-align: right;\">\n",
       "      <th></th>\n",
       "      <th></th>\n",
       "      <th></th>\n",
       "      <th>Quantity</th>\n",
       "      <th>Loss/Profit</th>\n",
       "      <th>Average Cost</th>\n",
       "    </tr>\n",
       "    <tr>\n",
       "      <th>Code</th>\n",
       "      <th>Name Of Client</th>\n",
       "      <th>Counter</th>\n",
       "      <th></th>\n",
       "      <th></th>\n",
       "      <th></th>\n",
       "    </tr>\n",
       "  </thead>\n",
       "  <tbody>\n",
       "    <tr>\n",
       "      <th rowspan=\"3\" valign=\"top\">KU176</th>\n",
       "      <th rowspan=\"3\" valign=\"top\">KUAN BEE WOON</th>\n",
       "      <th>CORAZA</th>\n",
       "      <td>40400.0</td>\n",
       "      <td>30806.38</td>\n",
       "      <td>0.762534</td>\n",
       "    </tr>\n",
       "    <tr>\n",
       "      <th>HONGSENG</th>\n",
       "      <td>-30000.0</td>\n",
       "      <td>-6097.65</td>\n",
       "      <td>0.203255</td>\n",
       "    </tr>\n",
       "    <tr>\n",
       "      <th>LGMS</th>\n",
       "      <td>-10000.0</td>\n",
       "      <td>-11707.66</td>\n",
       "      <td>1.170766</td>\n",
       "    </tr>\n",
       "  </tbody>\n",
       "</table>\n",
       "</div>"
      ],
      "text/plain": [
       "                               Quantity  Loss/Profit  Average Cost\n",
       "Code  Name Of Client Counter                                      \n",
       "KU176 KUAN BEE WOON  CORAZA     40400.0     30806.38      0.762534\n",
       "                     HONGSENG  -30000.0     -6097.65      0.203255\n",
       "                     LGMS      -10000.0    -11707.66      1.170766"
      ]
     },
     "metadata": {},
     "output_type": "display_data"
    }
   ],
   "source": [
    "try:\n",
    "  input = iof.read_input_file(input_filename)\n",
    "  data = pf.clean_data(input)\n",
    "  data = pf.filter_data(\n",
    "    data, \n",
    "    pf.prepare_filters_string(\n",
    "      filter_from, filter_to, \n",
    "      filter_client_codes, filter_counters\n",
    "    )\n",
    "  )\n",
    "  result = pf.compute_results(data)\n",
    "  display(result)\n",
    "except Exception as e:\n",
    "  print(e)"
   ]
  }
 ],
 "metadata": {
  "kernelspec": {
   "display_name": "Python 3.10.7 ('py-da')",
   "language": "python",
   "name": "python3"
  },
  "language_info": {
   "codemirror_mode": {
    "name": "ipython",
    "version": 3
   },
   "file_extension": ".py",
   "mimetype": "text/x-python",
   "name": "python",
   "nbconvert_exporter": "python",
   "pygments_lexer": "ipython3",
   "version": "3.10.7"
  },
  "orig_nbformat": 4,
  "vscode": {
   "interpreter": {
    "hash": "a67fb596599f073750e7f886be78b2143282cd9c042a0ad7b7f8e803fe70d60b"
   }
  }
 },
 "nbformat": 4,
 "nbformat_minor": 2
}
