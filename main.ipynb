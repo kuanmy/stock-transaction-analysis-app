{
 "cells": [
  {
   "cell_type": "code",
   "execution_count": 1,
   "metadata": {},
   "outputs": [],
   "source": [
    "# Import libraries\n",
    "from file_manager import read_input_file, write_output_file\n",
    "from transaction_analyser import TransactionAnalyser\n",
    "import mercury as mr\n",
    "import pandas as pd\n",
    "import warnings\n",
    "warnings.filterwarnings('ignore')"
   ]
  },
  {
   "cell_type": "code",
   "execution_count": null,
   "metadata": {},
   "outputs": [],
   "source": [
    "# Intialize application\n",
    "app = mr.App(\n",
    "    title=\"Stock Transaction Analysis\", \n",
    "    description=\"Extract and summarise transaction in Excel\",\n",
    "    show_code=False,\n",
    "    allow_download=False,\n",
    "    continuous_update=False,\n",
    ")"
   ]
  },
  {
   "cell_type": "code",
   "execution_count": 2,
   "metadata": {},
   "outputs": [
    {
     "data": {
      "application/mercury+json": {
       "code_uid": "File.0.40.18.2-rande579912d",
       "disabled": false,
       "hidden": false,
       "label": "Please upload Excel file (.xlsx)",
       "max_file_size": "100MB",
       "model_id": "a9b1b09531324cca8409c016ad5ee830",
       "widget": "File"
      },
      "application/vnd.jupyter.widget-view+json": {
       "model_id": "a9b1b09531324cca8409c016ad5ee830",
       "version_major": 2,
       "version_minor": 0
      },
      "text/plain": [
       "mercury.File"
      ]
     },
     "metadata": {},
     "output_type": "display_data"
    }
   ],
   "source": [
    "# Upload and read file\n",
    "file = mr.File(label=\"Please upload Excel file (.xlsx)\")\n",
    "if file.filename is None:  # Stop execution until file is uploaded\n",
    "    mr.Stop()\n",
    "input = read_input_file(file.value)"
   ]
  },
  {
   "cell_type": "code",
   "execution_count": null,
   "metadata": {
    "cellView": "form",
    "id": "drSzSbFsAnyA"
   },
   "outputs": [],
   "source": [
    "# Initialize analyser\n",
    "analyser = TransactionAnalyser(input)\n",
    "client_code_options = analyser.get_client_code_options()\n",
    "counter_options = analyser.get_counter_options()"
   ]
  },
  {
   "cell_type": "code",
   "execution_count": null,
   "metadata": {},
   "outputs": [],
   "source": [
    "# Create filter widgets\n",
    "w_filter_from = mr.Text(\n",
    "    label=\"From (yyyy-mm-dd)\"\n",
    ")\n",
    "w_filter_to = mr.Text(\n",
    "    label=\"To (yyyy-mm-dd)\"\n",
    ")\n",
    "w_filter_client_codes = mr.MultiSelect(\n",
    "    label=\"Client Codes\", \n",
    "    choices=client_code_options\n",
    ")\n",
    "w_filter_counters = mr.MultiSelect(\n",
    "    label=\"Counters\",\n",
    "    choices=counter_options\n",
    ")\n",
    "# Create download file widgets\n",
    "today_string = pd.to_datetime('today').strftime(\"%Y-%m-%d\")\n",
    "w_output_filename = mr.Text(\n",
    "    label=\"Output filename\",\n",
    "    value= 'Enquiry Result-' + today_string + '-000',\n",
    ")\n",
    "w_download_checkbox = mr.Checkbox(\n",
    "    label=\"Download\", \n",
    "    value=False\n",
    ")"
   ]
  },
  {
   "cell_type": "code",
   "execution_count": null,
   "metadata": {},
   "outputs": [],
   "source": [
    "# Filter and analyse results\n",
    "analyser.filter_data(\n",
    "    w_filter_from.value, \n",
    "    w_filter_to.value, \n",
    "    w_filter_client_codes.value, \n",
    "    w_filter_counters.value\n",
    ")\n",
    "analyser.compute_result()\n",
    "analyser.get_result()"
   ]
  },
  {
   "cell_type": "code",
   "execution_count": null,
   "metadata": {},
   "outputs": [],
   "source": [
    "# Download file\n",
    "import os\n",
    "if w_download_checkbox.value:\n",
    "    output_dir = mr.OutputDir()  \n",
    "    write_output_file(\n",
    "        output_dir=output_dir.path, \n",
    "        filename=w_output_filename.value + \".xlsx\",\n",
    "        result=analyser.get_result(),\n",
    "        filtered=analyser.get_filtered()\n",
    "    )\n"
   ]
  }
 ],
 "metadata": {
  "colab": {
   "private_outputs": true,
   "provenance": []
  },
  "gpuClass": "standard",
  "kernelspec": {
   "display_name": "Python 3 (ipykernel)",
   "language": "python",
   "name": "python3"
  },
  "language_info": {
   "codemirror_mode": {
    "name": "ipython",
    "version": 3
   },
   "file_extension": ".py",
   "mimetype": "text/x-python",
   "name": "python",
   "nbconvert_exporter": "python",
   "pygments_lexer": "ipython3",
   "version": "3.11.3"
  },
  "vscode": {
   "interpreter": {
    "hash": "a67fb596599f073750e7f886be78b2143282cd9c042a0ad7b7f8e803fe70d60b"
   }
  }
 },
 "nbformat": 4,
 "nbformat_minor": 1
}
