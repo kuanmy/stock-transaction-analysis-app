{
 "cells": [
  {
   "cell_type": "raw",
   "metadata": {},
   "source": [
    "---\n",
    "title: Stock Transaction Analysis\n",
    "description: Extract and summarise transaction in excel\n",
    "---"
   ]
  },
  {
   "cell_type": "code",
   "execution_count": null,
   "metadata": {},
   "outputs": [],
   "source": []
  }
 ],
 "metadata": {
  "kernelspec": {
   "display_name": "Python 3.10.7 64-bit",
   "language": "python",
   "name": "python3"
  },
  "language_info": {
   "name": "python",
   "version": "3.10.7"
  },
  "orig_nbformat": 4,
  "vscode": {
   "interpreter": {
    "hash": "e4321fbdb89ef9689889e0d4c8c3cbe06f36b888dcf40a4fb6c5a637c220640e"
   }
  }
 },
 "nbformat": 4,
 "nbformat_minor": 2
}
